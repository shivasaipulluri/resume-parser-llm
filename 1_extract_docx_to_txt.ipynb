{
 "cells": [
  {
   "cell_type": "code",
   "execution_count": 1,
   "id": "4dfb09c3-2bc5-4fd1-abe2-aeb197cf84d4",
   "metadata": {},
   "outputs": [
    {
     "name": "stdout",
     "output_type": "stream",
     "text": [
      "Note: you may need to restart the kernel to use updated packages.Requirement already satisfied: python-docx in c:\\users\\pullu\\appdata\\local\\programs\\python\\python311\\lib\\site-packages (1.1.2)\n",
      "Requirement already satisfied: lxml>=3.1.0 in c:\\users\\pullu\\appdata\\local\\programs\\python\\python311\\lib\\site-packages (from python-docx) (5.3.1)\n",
      "Requirement already satisfied: typing-extensions>=4.9.0 in c:\\users\\pullu\\appdata\\local\\programs\\python\\python311\\lib\\site-packages (from python-docx) (4.12.2)\n",
      "\n"
     ]
    },
    {
     "name": "stderr",
     "output_type": "stream",
     "text": [
      "\n",
      "[notice] A new release of pip is available: 24.3.1 -> 25.1.1\n",
      "[notice] To update, run: C:\\Users\\pullu\\AppData\\Local\\Programs\\Python\\Python311\\python.exe -m pip install --upgrade pip\n"
     ]
    }
   ],
   "source": [
    "pip install python-docx"
   ]
  },
  {
   "cell_type": "code",
   "execution_count": 1,
   "id": "27d54c6d-9a51-4254-9fcb-0c29541403b5",
   "metadata": {},
   "outputs": [],
   "source": [
    "import os\n",
    "from docx import Document\n",
    "\n",
    "docx_folder = \"resumes-docx\"\n",
    "txt_folder = \"resumes-txt\"\n",
    "os.makedirs(txt_folder, exist_ok=True)\n",
    "\n",
    "def extract_text_from_docx(filepath):\n",
    "    doc = Document(filepath)\n",
    "    lines = [p.text.strip() for p in doc.paragraphs if p.text.strip()]\n",
    "    return \"\\n\".join(lines)\n",
    "\n",
    "docx_files = sorted(os.listdir(docx_folder))\n",
    "\n",
    "for idx, filename in enumerate(docx_files, start=1):\n",
    "    if filename.endswith(\".docx\"):\n",
    "        filepath = os.path.join(docx_folder, filename)\n",
    "        text = extract_text_from_docx(filepath)\n",
    "        out_name = f\"resume_{idx:04}.txt\"\n",
    "        with open(os.path.join(txt_folder, out_name), \"w\", encoding=\"utf-8\") as f:\n",
    "            f.write(text)\n"
   ]
  },
  {
   "cell_type": "code",
   "execution_count": null,
   "id": "b40b2b26-b2e9-4d66-8f57-8fe24e3961b1",
   "metadata": {},
   "outputs": [],
   "source": []
  }
 ],
 "metadata": {
  "kernelspec": {
   "display_name": "Python 3 (ipykernel)",
   "language": "python",
   "name": "python3"
  },
  "language_info": {
   "codemirror_mode": {
    "name": "ipython",
    "version": 3
   },
   "file_extension": ".py",
   "mimetype": "text/x-python",
   "name": "python",
   "nbconvert_exporter": "python",
   "pygments_lexer": "ipython3",
   "version": "3.11.5"
  }
 },
 "nbformat": 4,
 "nbformat_minor": 5
}
